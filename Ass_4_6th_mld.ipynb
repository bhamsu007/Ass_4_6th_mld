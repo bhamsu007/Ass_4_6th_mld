{
 "cells": [
  {
   "cell_type": "markdown",
   "metadata": {},
   "source": [
    "1.1 Write a Python Program(with class concepts) to find the area of the triangle using the below formula. area = (s(s-a)(s-b)*(s-c)) ** 0.5 Function to take the length of the sides of triangle from user should be defined in the parent class and function to calculate the area should be defined in subclass."
   ]
  },
  {
   "cell_type": "code",
   "execution_count": 1,
   "metadata": {},
   "outputs": [
    {
     "name": "stdout",
     "output_type": "stream",
     "text": [
      "Enter side1:4\n",
      "Enter side2:6\n",
      "Enter side3:7\n",
      "area = 11.976540\n"
     ]
    }
   ],
   "source": [
    "class triangle:\n",
    "    \n",
    "    def func_side(self):\n",
    "        self.side1=int(input(\"Enter side1:\"))\n",
    "        self.side2=int(input(\"Enter side2:\"))\n",
    "        self.side3=int(input(\"Enter side3:\"))\n",
    "\n",
    "class calc_area:\n",
    "    \n",
    "    def calc(self,triangle):\n",
    "        s=0.5*(triangle.side1+triangle.side2+triangle.side3)\n",
    "        area=(s*(s-triangle.side1)*(s-triangle.side2)*(s-triangle.side3))**0.5\n",
    "        print(\"area = %f\"%(area))\n",
    "    \n",
    "t1=triangle()\n",
    "t1.func_side()\n",
    "a1=calc_area()\n",
    "a1.calc(t1)"
   ]
  },
  {
   "cell_type": "markdown",
   "metadata": {},
   "source": [
    "1.2 Write a function filter_long_words() that takes a list of words and an integer n and returns the list of words that are longer than."
   ]
  },
  {
   "cell_type": "code",
   "execution_count": 2,
   "metadata": {},
   "outputs": [
    {
     "name": "stdout",
     "output_type": "stream",
     "text": [
      "Enter a list of word:sdf grg esrtrt ryrtgtrtgr\n",
      "Enter n:4\n",
      "['esrtrt', 'ryrtgtrtgr']\n"
     ]
    }
   ],
   "source": [
    "def filter_long_words(lst,n):\n",
    "    out_lst=[]\n",
    "    for i in range(len(lst)):\n",
    "        if(len(lst[i])>n):\n",
    "            out_lst.append(lst[i])\n",
    "    print(out_lst)\n",
    "filter_long_words(list(map(str,input(\"Enter a list of word:\").split())),int(input(\"Enter n:\")))"
   ]
  },
  {
   "cell_type": "markdown",
   "metadata": {},
   "source": [
    "2.1 Write a Python program using function concept that maps list of words into a list of integers representing the lengths of the corresponding words. Hint: If a list [ ab,cde,erty] is passed on to the python function output should come as [2,3,4] Here 2,3 and 4 are the lengths of the words in the list."
   ]
  },
  {
   "cell_type": "code",
   "execution_count": 3,
   "metadata": {},
   "outputs": [
    {
     "name": "stdout",
     "output_type": "stream",
     "text": [
      "Enter a list of word:sdfg fhgfhgtf sf\n",
      "[4, 8, 2]\n"
     ]
    }
   ],
   "source": [
    "def wrd_into_len(lst):\n",
    "    len_lst=[]\n",
    "    for i in range(len(lst)):\n",
    "        len_lst.append(len(lst[i]))\n",
    "    print(len_lst)\n",
    "wrd_into_len(list(map(str,input(\"Enter a list of word:\").split())))"
   ]
  },
  {
   "cell_type": "markdown",
   "metadata": {},
   "source": [
    "2.2 Write a Python function which takes a character (i.e. a string of length 1) and returns True if it is a vowel, False otherwise.\n",
    "\n"
   ]
  },
  {
   "cell_type": "code",
   "execution_count": 4,
   "metadata": {},
   "outputs": [
    {
     "name": "stdout",
     "output_type": "stream",
     "text": [
      "Enter a character:e\n",
      "True\n"
     ]
    }
   ],
   "source": [
    "def check_vowel(ch):\n",
    "    vowel=['a','e','i','o','u']\n",
    "    if(ch in vowel):\n",
    "        print(True)\n",
    "    else:\n",
    "        print(False)\n",
    "    return\n",
    "check_vowel(input(\"Enter a character:\"))"
   ]
  },
  {
   "cell_type": "code",
   "execution_count": null,
   "metadata": {},
   "outputs": [],
   "source": []
  }
 ],
 "metadata": {
  "kernelspec": {
   "display_name": "Python 3",
   "language": "python",
   "name": "python3"
  },
  "language_info": {
   "codemirror_mode": {
    "name": "ipython",
    "version": 3
   },
   "file_extension": ".py",
   "mimetype": "text/x-python",
   "name": "python",
   "nbconvert_exporter": "python",
   "pygments_lexer": "ipython3",
   "version": "3.7.6"
  }
 },
 "nbformat": 4,
 "nbformat_minor": 4
}
